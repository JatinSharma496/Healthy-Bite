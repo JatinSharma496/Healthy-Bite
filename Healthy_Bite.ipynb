{
  "cells": [
    {
      "cell_type": "markdown",
      "metadata": {
        "id": "u0XUuHMMEIL2"
      },
      "source": [
        "Hello myself Jatin-Sharma . i have minor project **\"Healthiness of food Prediction\"**\n",
        "\n",
        "\n",
        "In this project user will enter the nutritional content .. of his product and get the Nutrition SCore , telling out of 100 how much heathy  is user's product ."
      ]
    },
    {
      "cell_type": "markdown",
      "metadata": {
        "id": "-CaORe6eE-Sc"
      },
      "source": [
        "**Connet to Google Drive to get the dataset**"
      ]
    },
    {
      "cell_type": "code",
      "execution_count": null,
      "metadata": {
        "colab": {
          "base_uri": "https://localhost:8080/"
        },
        "id": "0l0nirr4CDDv",
        "outputId": "d994885a-a534-4429-d9a3-daf93351daec"
      },
      "outputs": [
        {
          "output_type": "stream",
          "name": "stdout",
          "text": [
            "Drive already mounted at /content/drive; to attempt to forcibly remount, call drive.mount(\"/content/drive\", force_remount=True).\n"
          ]
        }
      ],
      "source": [
        "from google.colab import drive\n",
        "drive.mount('/content/drive')"
      ]
    },
    {
      "cell_type": "markdown",
      "metadata": {
        "id": "MDvNHy6iFEE1"
      },
      "source": []
    },
    {
      "cell_type": "markdown",
      "metadata": {
        "id": "tDTQy__PFECL"
      },
      "source": []
    },
    {
      "cell_type": "code",
      "execution_count": null,
      "metadata": {
        "id": "crgFZ-18FUU3"
      },
      "outputs": [],
      "source": [
        "import pandas as pd\n",
        "import numpy as np\n",
        "import seaborn as sns\n",
        "import matplotlib.pyplot as plt"
      ]
    },
    {
      "cell_type": "code",
      "execution_count": null,
      "metadata": {
        "id": "Mz7Eh_jkFDtU"
      },
      "outputs": [],
      "source": [
        "file=\"/content/drive/MyDrive/Dataset_Food_Nutrition/en.openfoodfacts.org.products.tsv\""
      ]
    },
    {
      "cell_type": "code",
      "execution_count": null,
      "metadata": {
        "colab": {
          "base_uri": "https://localhost:8080/",
          "height": 366
        },
        "id": "693JWuCrE9KX",
        "outputId": "4c9e4d1f-e671-4696-9246-308db747a805"
      },
      "outputs": [
        {
          "output_type": "error",
          "ename": "FileNotFoundError",
          "evalue": "[Errno 2] No such file or directory: '/content/drive/MyDrive/Dataset_Food_Nutrition/en.openfoodfacts.org.products.tsv'",
          "traceback": [
            "\u001b[0;31m---------------------------------------------------------------------------\u001b[0m",
            "\u001b[0;31mFileNotFoundError\u001b[0m                         Traceback (most recent call last)",
            "\u001b[0;32m<ipython-input-8-908b7ea89f60>\u001b[0m in \u001b[0;36m<cell line: 1>\u001b[0;34m()\u001b[0m\n\u001b[0;32m----> 1\u001b[0;31m df=pd.read_csv(file\n\u001b[0m\u001b[1;32m      2\u001b[0m ,delimiter='\\t')\n\u001b[1;32m      3\u001b[0m \u001b[0moriginal_df\u001b[0m\u001b[0;34m=\u001b[0m\u001b[0mdf\u001b[0m\u001b[0;34m.\u001b[0m\u001b[0mcopy\u001b[0m\u001b[0;34m(\u001b[0m\u001b[0;34m)\u001b[0m\u001b[0;34m\u001b[0m\u001b[0;34m\u001b[0m\u001b[0m\n",
            "\u001b[0;32m/usr/local/lib/python3.10/dist-packages/pandas/io/parsers/readers.py\u001b[0m in \u001b[0;36mread_csv\u001b[0;34m(filepath_or_buffer, sep, delimiter, header, names, index_col, usecols, dtype, engine, converters, true_values, false_values, skipinitialspace, skiprows, skipfooter, nrows, na_values, keep_default_na, na_filter, verbose, skip_blank_lines, parse_dates, infer_datetime_format, keep_date_col, date_parser, date_format, dayfirst, cache_dates, iterator, chunksize, compression, thousands, decimal, lineterminator, quotechar, quoting, doublequote, escapechar, comment, encoding, encoding_errors, dialect, on_bad_lines, delim_whitespace, low_memory, memory_map, float_precision, storage_options, dtype_backend)\u001b[0m\n\u001b[1;32m   1024\u001b[0m     \u001b[0mkwds\u001b[0m\u001b[0;34m.\u001b[0m\u001b[0mupdate\u001b[0m\u001b[0;34m(\u001b[0m\u001b[0mkwds_defaults\u001b[0m\u001b[0;34m)\u001b[0m\u001b[0;34m\u001b[0m\u001b[0;34m\u001b[0m\u001b[0m\n\u001b[1;32m   1025\u001b[0m \u001b[0;34m\u001b[0m\u001b[0m\n\u001b[0;32m-> 1026\u001b[0;31m     \u001b[0;32mreturn\u001b[0m \u001b[0m_read\u001b[0m\u001b[0;34m(\u001b[0m\u001b[0mfilepath_or_buffer\u001b[0m\u001b[0;34m,\u001b[0m \u001b[0mkwds\u001b[0m\u001b[0;34m)\u001b[0m\u001b[0;34m\u001b[0m\u001b[0;34m\u001b[0m\u001b[0m\n\u001b[0m\u001b[1;32m   1027\u001b[0m \u001b[0;34m\u001b[0m\u001b[0m\n\u001b[1;32m   1028\u001b[0m \u001b[0;34m\u001b[0m\u001b[0m\n",
            "\u001b[0;32m/usr/local/lib/python3.10/dist-packages/pandas/io/parsers/readers.py\u001b[0m in \u001b[0;36m_read\u001b[0;34m(filepath_or_buffer, kwds)\u001b[0m\n\u001b[1;32m    618\u001b[0m \u001b[0;34m\u001b[0m\u001b[0m\n\u001b[1;32m    619\u001b[0m     \u001b[0;31m# Create the parser.\u001b[0m\u001b[0;34m\u001b[0m\u001b[0;34m\u001b[0m\u001b[0m\n\u001b[0;32m--> 620\u001b[0;31m     \u001b[0mparser\u001b[0m \u001b[0;34m=\u001b[0m \u001b[0mTextFileReader\u001b[0m\u001b[0;34m(\u001b[0m\u001b[0mfilepath_or_buffer\u001b[0m\u001b[0;34m,\u001b[0m \u001b[0;34m**\u001b[0m\u001b[0mkwds\u001b[0m\u001b[0;34m)\u001b[0m\u001b[0;34m\u001b[0m\u001b[0;34m\u001b[0m\u001b[0m\n\u001b[0m\u001b[1;32m    621\u001b[0m \u001b[0;34m\u001b[0m\u001b[0m\n\u001b[1;32m    622\u001b[0m     \u001b[0;32mif\u001b[0m \u001b[0mchunksize\u001b[0m \u001b[0;32mor\u001b[0m \u001b[0miterator\u001b[0m\u001b[0;34m:\u001b[0m\u001b[0;34m\u001b[0m\u001b[0;34m\u001b[0m\u001b[0m\n",
            "\u001b[0;32m/usr/local/lib/python3.10/dist-packages/pandas/io/parsers/readers.py\u001b[0m in \u001b[0;36m__init__\u001b[0;34m(self, f, engine, **kwds)\u001b[0m\n\u001b[1;32m   1618\u001b[0m \u001b[0;34m\u001b[0m\u001b[0m\n\u001b[1;32m   1619\u001b[0m         \u001b[0mself\u001b[0m\u001b[0;34m.\u001b[0m\u001b[0mhandles\u001b[0m\u001b[0;34m:\u001b[0m \u001b[0mIOHandles\u001b[0m \u001b[0;34m|\u001b[0m \u001b[0;32mNone\u001b[0m \u001b[0;34m=\u001b[0m \u001b[0;32mNone\u001b[0m\u001b[0;34m\u001b[0m\u001b[0;34m\u001b[0m\u001b[0m\n\u001b[0;32m-> 1620\u001b[0;31m         \u001b[0mself\u001b[0m\u001b[0;34m.\u001b[0m\u001b[0m_engine\u001b[0m \u001b[0;34m=\u001b[0m \u001b[0mself\u001b[0m\u001b[0;34m.\u001b[0m\u001b[0m_make_engine\u001b[0m\u001b[0;34m(\u001b[0m\u001b[0mf\u001b[0m\u001b[0;34m,\u001b[0m \u001b[0mself\u001b[0m\u001b[0;34m.\u001b[0m\u001b[0mengine\u001b[0m\u001b[0;34m)\u001b[0m\u001b[0;34m\u001b[0m\u001b[0;34m\u001b[0m\u001b[0m\n\u001b[0m\u001b[1;32m   1621\u001b[0m \u001b[0;34m\u001b[0m\u001b[0m\n\u001b[1;32m   1622\u001b[0m     \u001b[0;32mdef\u001b[0m \u001b[0mclose\u001b[0m\u001b[0;34m(\u001b[0m\u001b[0mself\u001b[0m\u001b[0;34m)\u001b[0m \u001b[0;34m->\u001b[0m \u001b[0;32mNone\u001b[0m\u001b[0;34m:\u001b[0m\u001b[0;34m\u001b[0m\u001b[0;34m\u001b[0m\u001b[0m\n",
            "\u001b[0;32m/usr/local/lib/python3.10/dist-packages/pandas/io/parsers/readers.py\u001b[0m in \u001b[0;36m_make_engine\u001b[0;34m(self, f, engine)\u001b[0m\n\u001b[1;32m   1878\u001b[0m                 \u001b[0;32mif\u001b[0m \u001b[0;34m\"b\"\u001b[0m \u001b[0;32mnot\u001b[0m \u001b[0;32min\u001b[0m \u001b[0mmode\u001b[0m\u001b[0;34m:\u001b[0m\u001b[0;34m\u001b[0m\u001b[0;34m\u001b[0m\u001b[0m\n\u001b[1;32m   1879\u001b[0m                     \u001b[0mmode\u001b[0m \u001b[0;34m+=\u001b[0m \u001b[0;34m\"b\"\u001b[0m\u001b[0;34m\u001b[0m\u001b[0;34m\u001b[0m\u001b[0m\n\u001b[0;32m-> 1880\u001b[0;31m             self.handles = get_handle(\n\u001b[0m\u001b[1;32m   1881\u001b[0m                 \u001b[0mf\u001b[0m\u001b[0;34m,\u001b[0m\u001b[0;34m\u001b[0m\u001b[0;34m\u001b[0m\u001b[0m\n\u001b[1;32m   1882\u001b[0m                 \u001b[0mmode\u001b[0m\u001b[0;34m,\u001b[0m\u001b[0;34m\u001b[0m\u001b[0;34m\u001b[0m\u001b[0m\n",
            "\u001b[0;32m/usr/local/lib/python3.10/dist-packages/pandas/io/common.py\u001b[0m in \u001b[0;36mget_handle\u001b[0;34m(path_or_buf, mode, encoding, compression, memory_map, is_text, errors, storage_options)\u001b[0m\n\u001b[1;32m    871\u001b[0m         \u001b[0;32mif\u001b[0m \u001b[0mioargs\u001b[0m\u001b[0;34m.\u001b[0m\u001b[0mencoding\u001b[0m \u001b[0;32mand\u001b[0m \u001b[0;34m\"b\"\u001b[0m \u001b[0;32mnot\u001b[0m \u001b[0;32min\u001b[0m \u001b[0mioargs\u001b[0m\u001b[0;34m.\u001b[0m\u001b[0mmode\u001b[0m\u001b[0;34m:\u001b[0m\u001b[0;34m\u001b[0m\u001b[0;34m\u001b[0m\u001b[0m\n\u001b[1;32m    872\u001b[0m             \u001b[0;31m# Encoding\u001b[0m\u001b[0;34m\u001b[0m\u001b[0;34m\u001b[0m\u001b[0m\n\u001b[0;32m--> 873\u001b[0;31m             handle = open(\n\u001b[0m\u001b[1;32m    874\u001b[0m                 \u001b[0mhandle\u001b[0m\u001b[0;34m,\u001b[0m\u001b[0;34m\u001b[0m\u001b[0;34m\u001b[0m\u001b[0m\n\u001b[1;32m    875\u001b[0m                 \u001b[0mioargs\u001b[0m\u001b[0;34m.\u001b[0m\u001b[0mmode\u001b[0m\u001b[0;34m,\u001b[0m\u001b[0;34m\u001b[0m\u001b[0;34m\u001b[0m\u001b[0m\n",
            "\u001b[0;31mFileNotFoundError\u001b[0m: [Errno 2] No such file or directory: '/content/drive/MyDrive/Dataset_Food_Nutrition/en.openfoodfacts.org.products.tsv'"
          ]
        }
      ],
      "source": [
        "df=pd.read_csv(file\n",
        ",delimiter='\\t')\n",
        "original_df=df.copy()"
      ]
    },
    {
      "cell_type": "code",
      "execution_count": null,
      "metadata": {
        "id": "57SYF9sZFo5e"
      },
      "outputs": [],
      "source": [
        "pd.set_option('display.max_columns',None)\n",
        "pd.set_option('display.max_rows', None)"
      ]
    },
    {
      "cell_type": "markdown",
      "metadata": {
        "id": "ejeGfi3Ts3Fg"
      },
      "source": [
        "# **Data Preprocessing**"
      ]
    },
    {
      "cell_type": "code",
      "execution_count": null,
      "metadata": {
        "id": "kdpo6aOPFp_7"
      },
      "outputs": [],
      "source": [
        "original_df.head()"
      ]
    },
    {
      "cell_type": "code",
      "source": [
        "# prompt: give me completely filled row\n",
        "\n",
        "# Find rows where all columns have non-null values\n",
        "completely_filled_rows = df.dropna()\n",
        "\n",
        "# Print the completely filled rows\n",
        "completely_filled_rows"
      ],
      "metadata": {
        "id": "LtstQhxVckwg"
      },
      "execution_count": null,
      "outputs": []
    },
    {
      "cell_type": "code",
      "source": [
        "# prompt: show all columns name  with graph\n",
        "\n",
        "# Assuming you have already loaded the dataframe 'df' as shown in your code.\n",
        "\n",
        "# Display the column names\n",
        "print(\"Column Names:\", df.columns.tolist())\n",
        "\n",
        "# Create a bar chart showing the number of non-null values in each column\n",
        "plt.figure(figsize=(15, 15))  # Adjust figure size as needed\n",
        "df.notnull().sum().plot(kind='bar')\n",
        "plt.title('Number of Non-Null Values in Each Column')\n",
        "plt.xlabel('Column Names')\n",
        "plt.ylabel('Count')\n",
        "plt.xticks(rotation=90)  # Rotate x-axis labels for better readability\n",
        "plt.show()"
      ],
      "metadata": {
        "id": "r6dcFsnbqSiB"
      },
      "execution_count": null,
      "outputs": []
    },
    {
      "cell_type": "markdown",
      "metadata": {
        "id": "uNn1sOYJF2hU"
      },
      "source": [
        "**Lets first define the target**\n",
        "here the column\n",
        "\n",
        "**nutrition-score-fr_100g**\n",
        "\n",
        "**nutrition-score-uk_100g**"
      ]
    },
    {
      "cell_type": "markdown",
      "metadata": {
        "id": "qeb628FdGZH2"
      },
      "source": [
        "First we can drop rows where these 2 columns have NaN, because it will not be relevant for our model."
      ]
    },
    {
      "cell_type": "code",
      "execution_count": null,
      "metadata": {
        "id": "xJ9TJOI3Fxd7"
      },
      "outputs": [],
      "source": [
        "original_df.shape"
      ]
    },
    {
      "cell_type": "code",
      "execution_count": null,
      "metadata": {
        "id": "1UgCoWZSGXsK"
      },
      "outputs": [],
      "source": [
        "print(original_df['nutrition-score-fr_100g'].isnull().sum())\n",
        "print(original_df['nutrition-score-uk_100g'].isnull().sum())"
      ]
    },
    {
      "cell_type": "markdown",
      "metadata": {
        "id": "p0nVifXXGqXc"
      },
      "source": [
        "Turns out NaN values were identical for both columns. Are they the same column ?"
      ]
    },
    {
      "cell_type": "code",
      "execution_count": null,
      "metadata": {
        "id": "X8ZjZslyGkar"
      },
      "outputs": [],
      "source": [
        "original_df['nutrition-score-fr_100g'].equals(original_df['nutrition-score-uk_100g'])\n"
      ]
    },
    {
      "cell_type": "markdown",
      "metadata": {
        "id": "EUyx1dISG3HG"
      },
      "source": [
        "they are different , lets check how much different they are\n"
      ]
    },
    {
      "cell_type": "code",
      "execution_count": null,
      "metadata": {
        "id": "YKGhur_1G0HN"
      },
      "outputs": [],
      "source": [
        "diff=np.where(original_df['nutrition-score-fr_100g']==original_df['nutrition-score-uk_100g'],1,0)\n",
        "\n",
        "# diff is array of 1, 0 where if they are equal it is represented by 1 , otherwise 0\n",
        "pd.DataFrame(diff).value_counts()\n",
        "\n",
        "# np. array dont have value counts() methods so we convert diff to dataframe"
      ]
    },
    {
      "cell_type": "markdown",
      "metadata": {
        "id": "m8Ud4RkRH-_7"
      },
      "source": [
        "We can see that both nutriscore are quite similar. The difference is explained by the change of the formula for some categories.\n",
        "\n",
        "Lets check which countries datas are present\n"
      ]
    },
    {
      "cell_type": "code",
      "execution_count": null,
      "metadata": {
        "id": "NZNgeQ8NHIJj"
      },
      "outputs": [],
      "source": [
        " original_df['countries_en'].value_counts().head(10)"
      ]
    },
    {
      "cell_type": "code",
      "source": [
        "# prompt: make bar graph to demonstate countries\n",
        "\n",
        "top_10_countries = original_df['countries_en'].value_counts().head(10)\n",
        "\n",
        "plt.figure(figsize=(12, 6))\n",
        "sns.barplot(x=top_10_countries.index, y=top_10_countries.values)\n",
        "plt.title('Top 10 Countries with the Most Food Products in the Dataset')\n",
        "plt.xlabel('Country')\n",
        "plt.ylabel('Number of Products')\n",
        "plt.xticks(rotation=45, ha='right')\n",
        "plt.show()"
      ],
      "metadata": {
        "id": "-0oDkxK-YLhk"
      },
      "execution_count": null,
      "outputs": []
    },
    {
      "cell_type": "markdown",
      "metadata": {
        "id": "I11WrY-4JlgU"
      },
      "source": [
        "**here we can see that the US is the majority , then France , Then UK**\n",
        "\n",
        "it is better to take\n",
        " **nutrition-score-fr_100g** over **nutrition-score-en_100g**"
      ]
    },
    {
      "cell_type": "code",
      "execution_count": null,
      "metadata": {
        "id": "BXiptsmbJXa5"
      },
      "outputs": [],
      "source": [
        "original_df.drop(['nutrition-score-uk_100g'],axis=1,inplace=True)"
      ]
    },
    {
      "cell_type": "markdown",
      "metadata": {
        "id": "dIJOitolKP_R"
      },
      "source": [
        "So we get our **Target** , so now we will select **Relevant** **features** for our model"
      ]
    },
    {
      "cell_type": "code",
      "execution_count": null,
      "metadata": {
        "id": "f265Kg70KGFp"
      },
      "outputs": [],
      "source": [
        "# checking Duplicates present if any\n",
        "df_clean=original_df.drop_duplicates()\n",
        "print(original_df.shape)\n",
        "df_clean.shape"
      ]
    },
    {
      "cell_type": "markdown",
      "metadata": {
        "id": "p86PIKYDK_3x"
      },
      "source": [
        "Great,no duplicates"
      ]
    },
    {
      "cell_type": "code",
      "execution_count": null,
      "metadata": {
        "id": "cMuTaWCzKxyA"
      },
      "outputs": [],
      "source": [
        "df_clean.describe()"
      ]
    },
    {
      "cell_type": "code",
      "execution_count": null,
      "metadata": {
        "id": "vcUeMlZjLHGY"
      },
      "outputs": [],
      "source": [
        "df_clean.describe(include='object')"
      ]
    },
    {
      "cell_type": "markdown",
      "metadata": {
        "id": "JturNLQlLtXB"
      },
      "source": [
        "See, **no_nutriments** is NaN always , so now we should drop those columns that have certain Null values"
      ]
    },
    {
      "cell_type": "code",
      "execution_count": null,
      "metadata": {
        "id": "cAuWxZnFLlV5"
      },
      "outputs": [],
      "source": [
        "df_clean['no_nutriments'].isna().sum()"
      ]
    },
    {
      "cell_type": "code",
      "execution_count": null,
      "metadata": {
        "id": "MMyIG2KuMEyQ"
      },
      "outputs": [],
      "source": [
        "df_clean.drop(['no_nutriments'],axis=1,inplace=True)"
      ]
    },
    {
      "cell_type": "code",
      "execution_count": null,
      "metadata": {
        "id": "YNo37p0yPaW_"
      },
      "outputs": [],
      "source": []
    },
    {
      "cell_type": "markdown",
      "metadata": {
        "id": "jwyt9Hy8MPyp"
      },
      "source": [
        "lets drop similiar nan columns , with a threshold of 2 percent"
      ]
    },
    {
      "cell_type": "code",
      "execution_count": null,
      "metadata": {
        "id": "HnqWHVUoMpdh"
      },
      "outputs": [],
      "source": [
        "def missing_values(df):\n",
        "  missing=df.isna().sum()\n",
        "  percent_missing=(missing/len(df))*100\n",
        "  non_missing=df.notna().sum()\n",
        "  return pd.DataFrame({'Missing':missing,'Non_Missing':non_missing,'Percent_Missing':percent_missing}).sort_values('Percent_Missing',ascending=False)"
      ]
    },
    {
      "cell_type": "code",
      "execution_count": null,
      "metadata": {
        "id": "_L_LwezKNQSP"
      },
      "outputs": [],
      "source": [
        "missing_values(df_clean)"
      ]
    },
    {
      "cell_type": "code",
      "source": [
        "# prompt: visualize percent missibg values\n",
        "\n",
        "import matplotlib.pyplot as plt\n",
        "\n",
        "# Calculate the percentage of missing values for each column\n",
        "percent_missing = df_clean.isnull().sum() * 100 / len(df_clean)\n",
        "\n",
        "# Create a bar plot of the percentage of missing values\n",
        "plt.figure(figsize=(15, 6))  # Adjust the figure size as needed\n",
        "plt.bar(percent_missing.index, percent_missing.values)\n",
        "plt.xticks(rotation=90)  # Rotate x-axis labels for better readability\n",
        "plt.ylabel('Percentage of Missing Values')\n",
        "plt.title('Missing Values per Column')\n",
        "plt.show()"
      ],
      "metadata": {
        "id": "Ycw3tM0HYugg"
      },
      "execution_count": null,
      "outputs": []
    },
    {
      "cell_type": "code",
      "source": [
        "# prompt: plot graph that greatly visualize the missing values\n",
        "\n",
        "# Assuming 'percent_missing' is the Series you calculated earlier\n",
        "plt.figure(figsize=(15, 6))\n",
        "sns.heatmap(df_clean.isnull(), cbar=False, cmap='viridis')\n",
        "plt.title('Missing Values Heatmap')\n",
        "plt.show()"
      ],
      "metadata": {
        "id": "6pt5R0PlZ4M4"
      },
      "execution_count": null,
      "outputs": []
    },
    {
      "cell_type": "code",
      "execution_count": null,
      "metadata": {
        "id": "1SG3NikiOZmK"
      },
      "outputs": [],
      "source": [
        "column_to_drop=missing_values(df_clean)[missing_values(df_clean)['Percent_Missing']>98].index\n"
      ]
    },
    {
      "cell_type": "code",
      "execution_count": null,
      "metadata": {
        "id": "1mwHSolHNSdP"
      },
      "outputs": [],
      "source": [
        "column_to_drop"
      ]
    },
    {
      "cell_type": "markdown",
      "metadata": {
        "id": "8pkFUOphPMkX"
      },
      "source": [
        "ok , they are a lot , so lets just dropp them"
      ]
    },
    {
      "cell_type": "code",
      "execution_count": null,
      "metadata": {
        "id": "I0v20DanOoUv"
      },
      "outputs": [],
      "source": [
        "df_clean.drop(column_to_drop,axis=1,inplace=True)"
      ]
    },
    {
      "cell_type": "code",
      "execution_count": null,
      "metadata": {
        "id": "RBLCKunhPsO-"
      },
      "outputs": [],
      "source": [
        "df_clean.shape"
      ]
    },
    {
      "cell_type": "markdown",
      "metadata": {
        "id": "LTqh8h4mP5_K"
      },
      "source": [
        "We could continue to drop non relevant columns like that. But we will instead keep good columns which should be quicker. We will do so later. The purpose now is to have a general understanding."
      ]
    },
    {
      "cell_type": "markdown",
      "metadata": {
        "id": "X6aThwNnQC0n"
      },
      "source": [
        "# Selecting Relevant Columns"
      ]
    },
    {
      "cell_type": "code",
      "execution_count": null,
      "metadata": {
        "id": "q_88I0dSQTyn"
      },
      "outputs": [],
      "source": [
        "df_clean.info()"
      ]
    },
    {
      "cell_type": "markdown",
      "metadata": {
        "id": "BdM0kEAvQMmY"
      },
      "source": [
        "We want to build a model predicting the nutriscore based on nutritional information.\n",
        "here we have\n",
        "Descriptive columns(Object)\n",
        "\n",
        "*   Descriptive columns(Object)\n",
        "*   Nutritional columns(Float)\n",
        "*   the target column"
      ]
    },
    {
      "cell_type": "markdown",
      "metadata": {
        "id": "JG7fOtmrQwiQ"
      },
      "source": [
        "# First Select Descriptive columns(Object)"
      ]
    },
    {
      "cell_type": "markdown",
      "metadata": {
        "id": "PPjVKOBERZQL"
      },
      "source": []
    },
    {
      "cell_type": "code",
      "execution_count": null,
      "metadata": {
        "id": "xXoQyZaoRaYS"
      },
      "outputs": [],
      "source": [
        "descriptive_columns=list()"
      ]
    },
    {
      "cell_type": "code",
      "execution_count": null,
      "metadata": {
        "id": "718pmTFHPuKm"
      },
      "outputs": [],
      "source": [
        "desc_col=df_clean.select_dtypes(include='object').columns"
      ]
    },
    {
      "cell_type": "code",
      "execution_count": null,
      "metadata": {
        "id": "9lwA5Oi-RGCX"
      },
      "outputs": [],
      "source": [
        "df_clean[desc_col].head()"
      ]
    },
    {
      "cell_type": "code",
      "execution_count": null,
      "metadata": {
        "id": "7sYGlALgRnRt"
      },
      "outputs": [],
      "source": [
        "df_clean[['product_name','generic_name']].isna().sum()"
      ]
    },
    {
      "cell_type": "markdown",
      "metadata": {
        "id": "1d0HDA_TSF-X"
      },
      "source": [
        "lets just accept product_name it is relevant for us"
      ]
    },
    {
      "cell_type": "code",
      "execution_count": null,
      "metadata": {
        "id": "ewy31RtGR_HF"
      },
      "outputs": [],
      "source": [
        "descriptive_columns.append('product_name')"
      ]
    },
    {
      "cell_type": "markdown",
      "metadata": {
        "id": "4R2btVrOSW76"
      },
      "source": [
        "what about quantity is it relevant ?"
      ]
    },
    {
      "cell_type": "code",
      "execution_count": null,
      "metadata": {
        "id": "k2ySUH0fSLtt"
      },
      "outputs": [],
      "source": [
        "df_clean['quantity'].value_counts().head()"
      ]
    },
    {
      "cell_type": "markdown",
      "metadata": {
        "id": "QfQH5zLhS0sO"
      },
      "source": [
        "we dont think quantity is relevant\n",
        "\n",
        "what about packaging , packaging_tags ?"
      ]
    },
    {
      "cell_type": "code",
      "execution_count": null,
      "metadata": {
        "id": "ShhronCWSple"
      },
      "outputs": [],
      "source": [
        "df_clean['packaging'].value_counts().head(20)\n"
      ]
    },
    {
      "cell_type": "code",
      "execution_count": null,
      "metadata": {
        "id": "zpzgTSqNTG9l"
      },
      "outputs": [],
      "source": [
        "df_clean['packaging_tags'].value_counts().head(20)"
      ]
    },
    {
      "cell_type": "markdown",
      "metadata": {
        "id": "nYUoS_-MTSnu"
      },
      "source": [
        "we dont thing it is relevant . similiary brand , brand_tags is also irrelavant\n"
      ]
    },
    {
      "cell_type": "markdown",
      "metadata": {
        "id": "tST187Q5UIEx"
      },
      "source": [
        "The categories column can be really interesting for us for further analysis, we keep it. But first we will see which column we will keep between : categories, categories_tags, categories_en"
      ]
    },
    {
      "cell_type": "code",
      "execution_count": null,
      "metadata": {
        "id": "Sha0z5nnTKD1"
      },
      "outputs": [],
      "source": [
        "df_clean['categories'].isna().sum()"
      ]
    },
    {
      "cell_type": "code",
      "execution_count": null,
      "metadata": {
        "id": "vBloPs1lTwy2"
      },
      "outputs": [],
      "source": [
        "df_clean['categories_tags'].isna().sum()"
      ]
    },
    {
      "cell_type": "code",
      "execution_count": null,
      "metadata": {
        "id": "F_qFVR-iUPeM"
      },
      "outputs": [],
      "source": [
        "df_clean['categories_en'].isna().sum()"
      ]
    },
    {
      "cell_type": "code",
      "execution_count": null,
      "metadata": {
        "id": "fvTNrM5YVoi5"
      },
      "outputs": [],
      "source": [
        "print(df_clean['categories_en'].value_counts().head())\n",
        "print()\n",
        "print(df_clean['categories'].value_counts().head())\n",
        "print()\n",
        "print(df_clean['categories_tags'].value_counts().head())"
      ]
    },
    {
      "cell_type": "markdown",
      "metadata": {
        "id": "rhFnBj7uVvTs"
      },
      "source": [
        "catagory_en has good discription and understanding , we are selecting this\n"
      ]
    },
    {
      "cell_type": "code",
      "execution_count": null,
      "metadata": {
        "id": "PfgYo0_mVtqj"
      },
      "outputs": [],
      "source": [
        "descriptive_columns.append('categories_en')"
      ]
    },
    {
      "cell_type": "code",
      "execution_count": null,
      "metadata": {
        "id": "xQ1LM113WFgr"
      },
      "outputs": [],
      "source": [
        "df_clean[desc_col].head()"
      ]
    },
    {
      "cell_type": "code",
      "execution_count": null,
      "metadata": {
        "id": "imc-LxSXWKx8"
      },
      "outputs": [],
      "source": [
        "df_clean['origins'].value_counts().head()"
      ]
    },
    {
      "cell_type": "code",
      "execution_count": null,
      "metadata": {
        "id": "mk6FjeNGWWGL"
      },
      "outputs": [],
      "source": [
        "df_clean['origins_tags'].value_counts().head()"
      ]
    },
    {
      "cell_type": "markdown",
      "metadata": {
        "id": "ZOM0sIDAWau3"
      },
      "source": [
        "\torigins\torigins_tags\tmanufacturing_places\tmanufacturing_places_tags  are not relevant"
      ]
    },
    {
      "cell_type": "markdown",
      "metadata": {
        "id": "tC3Tw5v2WoTP"
      },
      "source": [
        " lets check labels,\tlabels_tags\t,labels_en"
      ]
    },
    {
      "cell_type": "code",
      "execution_count": null,
      "metadata": {
        "id": "bD2OjIYtWY5c"
      },
      "outputs": [],
      "source": [
        "print(df_clean['labels'].value_counts().head())\n",
        "print()\n",
        "print(df_clean['labels_tags'].value_counts().head())\n",
        "print()\n",
        "print(df_clean['labels_en'].value_counts().head(20))"
      ]
    },
    {
      "cell_type": "markdown",
      "metadata": {
        "id": "MD8-E7Q4Wzod"
      },
      "source": [
        "labels_en is good"
      ]
    },
    {
      "cell_type": "code",
      "execution_count": null,
      "metadata": {
        "id": "Mh0LENZRWvoE"
      },
      "outputs": [],
      "source": [
        "descriptive_columns.append('labels_en')"
      ]
    },
    {
      "cell_type": "code",
      "execution_count": null,
      "metadata": {
        "id": "80kz9mDHW3k0"
      },
      "outputs": [],
      "source": [
        "df_clean['ingredients_text'].value_counts().head()\n"
      ]
    },
    {
      "cell_type": "code",
      "execution_count": null,
      "metadata": {
        "id": "fxd3TtoMXzH1"
      },
      "outputs": [],
      "source": [
        "df_clean['ingredients_text'].notna().sum()"
      ]
    },
    {
      "cell_type": "markdown",
      "metadata": {
        "id": "huW1GRk2XczM"
      },
      "source": [
        "it can be relevant too"
      ]
    },
    {
      "cell_type": "code",
      "execution_count": null,
      "metadata": {
        "id": "bXZFOrurXTAD"
      },
      "outputs": [],
      "source": [
        "descriptive_columns.append('ingredients_text')"
      ]
    },
    {
      "cell_type": "code",
      "execution_count": null,
      "metadata": {
        "id": "S-yiyp6SXf17"
      },
      "outputs": [],
      "source": [
        "df_clean['allergens'].notna().sum()"
      ]
    },
    {
      "cell_type": "code",
      "execution_count": null,
      "metadata": {
        "id": "PkqicENNXnhy"
      },
      "outputs": [],
      "source": [
        "df_clean['allergens'].value_counts().head(20)"
      ]
    },
    {
      "cell_type": "markdown",
      "metadata": {
        "id": "s1JsaDfQYWHN"
      },
      "source": [
        "they are in french so drop it for simplicity"
      ]
    },
    {
      "cell_type": "markdown",
      "metadata": {
        "id": "rtNvZxgSYput"
      },
      "source": [
        "additives_n\tadditives\tadditives_tags\tadditives_en ?"
      ]
    },
    {
      "cell_type": "code",
      "execution_count": null,
      "metadata": {
        "id": "d_efbG18YBKr"
      },
      "outputs": [],
      "source": [
        "print(df_clean['additives_n'].notna().sum())\n",
        "print(df_clean['additives'].notna().sum())\n",
        "print(df_clean['additives_tags'].notna().sum())\n",
        "print(df_clean['additives_en'].notna().sum())"
      ]
    },
    {
      "cell_type": "code",
      "execution_count": null,
      "metadata": {
        "id": "AvIV1Gr7YtYb"
      },
      "outputs": [],
      "source": [
        "print(df_clean['additives_n'].value_counts().head())\n",
        "print()\n",
        "print(df_clean['additives'].value_counts().head())\n",
        "print()\n",
        "print(df_clean['additives_tags'].value_counts().head())\n",
        "print()\n",
        "print(df_clean['additives_en'].value_counts().head())"
      ]
    },
    {
      "cell_type": "markdown",
      "metadata": {
        "id": "_9czcV4NZJKt"
      },
      "source": [
        "addictives_en is interesting we keep it"
      ]
    },
    {
      "cell_type": "code",
      "execution_count": null,
      "metadata": {
        "id": "nWDiNxQjY4lK"
      },
      "outputs": [],
      "source": [
        "descriptive_columns.append('additives_en')"
      ]
    },
    {
      "cell_type": "markdown",
      "metadata": {
        "id": "mHYwERYFZdzz"
      },
      "source": [
        "ingredients_from_palm_oil_n\tingredients_that_may_be_from_palm_oil_n\tingredients_that_may_be_from_palm_oil_tags ?"
      ]
    },
    {
      "cell_type": "code",
      "execution_count": null,
      "metadata": {
        "id": "pQS6_szeZP0S"
      },
      "outputs": [],
      "source": [
        "\n",
        "print(df_clean['ingredients_that_may_be_from_palm_oil_tags'].notna().sum())"
      ]
    },
    {
      "cell_type": "code",
      "execution_count": null,
      "metadata": {
        "id": "LCAFMW2uZxyS"
      },
      "outputs": [],
      "source": [
        "\n",
        "print(df_clean['ingredients_that_may_be_from_palm_oil_tags'].value_counts().head())"
      ]
    },
    {
      "cell_type": "markdown",
      "metadata": {
        "id": "8O4G6qpQaXL8"
      },
      "source": [
        "lets just take ingredients_from_palm_oil_n"
      ]
    },
    {
      "cell_type": "code",
      "execution_count": null,
      "metadata": {
        "id": "cK5xHAdkaByx"
      },
      "outputs": [],
      "source": [
        "descriptive_columns"
      ]
    },
    {
      "cell_type": "code",
      "execution_count": null,
      "metadata": {
        "id": "38AHl62badCB"
      },
      "outputs": [],
      "source": [
        "df_clean['states_en'].value_counts().head()"
      ]
    },
    {
      "cell_type": "markdown",
      "metadata": {
        "id": "uDsjsOOWb-Vq"
      },
      "source": [
        "not relevant"
      ]
    },
    {
      "cell_type": "markdown",
      "metadata": {
        "id": "zyhkfa23cDx0"
      },
      "source": [
        "last main_category"
      ]
    },
    {
      "cell_type": "code",
      "execution_count": null,
      "metadata": {
        "id": "HGXXjHLrb4kR"
      },
      "outputs": [],
      "source": [
        "df_clean['main_category'].value_counts().head()"
      ]
    },
    {
      "cell_type": "code",
      "execution_count": null,
      "metadata": {
        "id": "qIJH6jivcHRQ"
      },
      "outputs": [],
      "source": [
        "df_clean['main_category_en'].value_counts().head()"
      ]
    },
    {
      "cell_type": "code",
      "execution_count": null,
      "metadata": {
        "id": "Fef8t6lgcJW4"
      },
      "outputs": [],
      "source": [
        "descriptive_columns.append('main_category_en')"
      ]
    },
    {
      "cell_type": "markdown",
      "metadata": {
        "id": "m2mkJGMMcNN1"
      },
      "source": [
        "** now we have selected all the relevant columns that are descriptive**"
      ]
    },
    {
      "cell_type": "code",
      "execution_count": null,
      "metadata": {
        "id": "nAP04jY6cLjA"
      },
      "outputs": [],
      "source": [
        "descriptive_columns"
      ]
    },
    {
      "cell_type": "code",
      "execution_count": null,
      "metadata": {
        "id": "TGPjhe0c0sQ1"
      },
      "outputs": [],
      "source": [
        "df_new=df_clean[descriptive_columns]"
      ]
    },
    {
      "cell_type": "markdown",
      "metadata": {
        "id": "d955dglHcWOM"
      },
      "source": [
        "# Now Nutritional columns(Float)"
      ]
    },
    {
      "cell_type": "code",
      "execution_count": null,
      "metadata": {
        "id": "ZcEtIo9ocU0o"
      },
      "outputs": [],
      "source": [
        "numerical_columns=list()"
      ]
    },
    {
      "cell_type": "code",
      "execution_count": null,
      "metadata": {
        "id": "H6-RfDYksgi-"
      },
      "outputs": [],
      "source": [
        "float_col=df_clean.select_dtypes(include='float64').columns\n",
        "float_col"
      ]
    },
    {
      "cell_type": "markdown",
      "metadata": {
        "id": "9CwWNa9Rub53"
      },
      "source": [
        "Considering our subject, the selection of numerical variables is only basic nutritional variables. The ones you can almost always find on the product packaging."
      ]
    },
    {
      "cell_type": "code",
      "execution_count": null,
      "metadata": {
        "id": "2va66CxAt6r-"
      },
      "outputs": [],
      "source": [
        "df_clean[float_col].head()"
      ]
    },
    {
      "cell_type": "code",
      "execution_count": null,
      "metadata": {
        "id": "BFSlkxPrulv1"
      },
      "outputs": [],
      "source": [
        "missing_values(df_clean[float_col])"
      ]
    },
    {
      "cell_type": "markdown",
      "metadata": {
        "id": "80QHsdPtzX5C"
      },
      "source": [
        "1.   vitamin-d_100g\n",
        "2.   vitamin-b2_100g\n",
        "2.   vitamin-b1_100g\n",
        "3.   vitamin-pp_100g\n",
        "4.   monounsaturated-fat_100g\n",
        "5.   polyunsaturated-fat_100g\n",
        "6.   potassium_100g  \n",
        "\n",
        "not including these columns because they have more than 90 percent null values\n"
      ]
    },
    {
      "cell_type": "code",
      "execution_count": null,
      "metadata": {
        "id": "X6PEwtYM1kvC"
      },
      "outputs": [],
      "source": [
        "type(float_col)"
      ]
    },
    {
      "cell_type": "code",
      "execution_count": null,
      "metadata": {
        "id": "mvRDxZbS2Zds"
      },
      "outputs": [],
      "source": [
        "float_col=list(float_col)"
      ]
    },
    {
      "cell_type": "code",
      "execution_count": null,
      "metadata": {
        "id": "BOaA40JL2zbq"
      },
      "outputs": [],
      "source": [
        "remove_elements = ['vitamin-d_100g','vitamin-b2_100g','vitamin-b1_100g',\n",
        "    'vitamin-pp_100g','monounsaturated-fat_100g',\n",
        "    'polyunsaturated-fat_100g','potassium_100g']"
      ]
    },
    {
      "cell_type": "code",
      "execution_count": null,
      "metadata": {
        "id": "c_oRhjLg3qRJ"
      },
      "outputs": [],
      "source": [
        "float_col = [x for x in float_col if x not in remove_elements]"
      ]
    },
    {
      "cell_type": "code",
      "execution_count": null,
      "metadata": {
        "id": "YpjLGdqM4FvY"
      },
      "outputs": [],
      "source": [
        "float_col"
      ]
    },
    {
      "cell_type": "code",
      "execution_count": null,
      "metadata": {
        "id": "V9Qb4abD4HPo"
      },
      "outputs": [],
      "source": [
        "df_new=pd.concat([df_new,df_clean[float_col]],axis=1)"
      ]
    },
    {
      "cell_type": "code",
      "execution_count": null,
      "metadata": {
        "id": "EUNE1oOR4QIy"
      },
      "outputs": [],
      "source": [
        "df_new.shape"
      ]
    },
    {
      "cell_type": "code",
      "execution_count": null,
      "metadata": {
        "id": "7eJtVWO74ZgA"
      },
      "outputs": [],
      "source": [
        "df_new.head()"
      ]
    },
    {
      "cell_type": "code",
      "execution_count": null,
      "metadata": {
        "id": "hDqWPRxd4bon"
      },
      "outputs": [],
      "source": []
    },
    {
      "cell_type": "markdown",
      "metadata": {
        "id": "ug7_5_fT4hPJ"
      },
      "source": [
        "# final Cleaning\n"
      ]
    },
    {
      "cell_type": "code",
      "execution_count": null,
      "metadata": {
        "id": "FPaTPcyd4g0U"
      },
      "outputs": [],
      "source": [
        "df_temp=df_new.dropna()\n",
        "df_temp.shape\n",
        "# dropping all nan is a very bad idea"
      ]
    },
    {
      "cell_type": "code",
      "execution_count": null,
      "metadata": {
        "id": "yyJFr5v240yo"
      },
      "outputs": [],
      "source": [
        "missing_values(df_new)"
      ]
    },
    {
      "cell_type": "code",
      "execution_count": null,
      "metadata": {
        "id": "yeNBcCQF6HdH"
      },
      "outputs": [],
      "source": [
        "df_new.dropna(how='all',inplace=True)\n",
        "df_new.shape"
      ]
    },
    {
      "cell_type": "code",
      "execution_count": null,
      "metadata": {
        "id": "3uCom5sI641H"
      },
      "outputs": [],
      "source": [
        "missing_values(df_new)"
      ]
    },
    {
      "cell_type": "code",
      "execution_count": null,
      "metadata": {
        "id": "tyyqGimL77wo"
      },
      "outputs": [],
      "source": [
        "df_new.head()"
      ]
    },
    {
      "cell_type": "markdown",
      "metadata": {
        "id": "cAuRODVkxMm7"
      },
      "source": [
        "# **Final Cleaning part2**"
      ]
    },
    {
      "cell_type": "code",
      "execution_count": null,
      "metadata": {
        "id": "WHwlmADw8t5m"
      },
      "outputs": [],
      "source": [
        "import missingno as msno"
      ]
    },
    {
      "cell_type": "code",
      "execution_count": null,
      "metadata": {
        "id": "0gtKCyzMy1qy"
      },
      "outputs": [],
      "source": [
        "msno.matrix(df_new)\n",
        "plt.show()"
      ]
    },
    {
      "cell_type": "code",
      "execution_count": null,
      "metadata": {
        "id": "ZZ_vUcrUy8ba"
      },
      "outputs": [],
      "source": [
        "msno.heatmap(df_new)\n",
        "plt.show()"
      ]
    },
    {
      "cell_type": "markdown",
      "metadata": {
        "id": "JZttKy7f6RD1"
      },
      "source": [
        "lets just tale feature that has less missing values for our easiness\n",
        "labels_en\t283688\n",
        "main_category_en\n",
        "categories_en\n",
        "\n",
        "we are dropping these feature because they dont allign rest of the features"
      ]
    },
    {
      "cell_type": "code",
      "execution_count": null,
      "metadata": {
        "id": "EYMHZQM2zXLY"
      },
      "outputs": [],
      "source": [
        "df_new.drop(['labels_en','main_category_en','categories_en'],axis=1,inplace=True)"
      ]
    },
    {
      "cell_type": "code",
      "execution_count": null,
      "metadata": {
        "id": "gJh2bYL87Xza"
      },
      "outputs": [],
      "source": [
        "df_new.shape"
      ]
    },
    {
      "cell_type": "code",
      "execution_count": null,
      "metadata": {
        "id": "bukN0Otb7ZfN"
      },
      "outputs": [],
      "source": [
        "msno.matrix(df_new)\n",
        "plt.show()"
      ]
    },
    {
      "cell_type": "code",
      "execution_count": null,
      "metadata": {
        "id": "7dyhwzTh7qCz"
      },
      "outputs": [],
      "source": [
        "df_new.dropna(how='all',inplace=True)\n",
        "df_new.shape"
      ]
    },
    {
      "cell_type": "code",
      "execution_count": null,
      "metadata": {
        "id": "GOz5YaKS7yM5"
      },
      "outputs": [],
      "source": [
        "msno.matrix(df_new)\n",
        "plt.show()"
      ]
    },
    {
      "cell_type": "code",
      "execution_count": null,
      "metadata": {
        "id": "xdQMziOJ8DN1"
      },
      "outputs": [],
      "source": [
        "\n",
        "\n",
        "threshold = 1\n",
        "\n",
        "df_major = df_new.dropna(thresh=int(df_new.shape[1] * threshold))\n",
        "\n",
        "df_major.shape"
      ]
    },
    {
      "cell_type": "code",
      "execution_count": null,
      "metadata": {
        "id": "dDU6TAab8RxD"
      },
      "outputs": [],
      "source": [
        "msno.matrix(df_major)\n",
        "plt.show()"
      ]
    },
    {
      "cell_type": "markdown",
      "metadata": {
        "id": "2XAFdt8J876Y"
      },
      "source": [
        "we have 83037 rows , which is sufficiant for an basic models to start with"
      ]
    },
    {
      "cell_type": "code",
      "execution_count": null,
      "metadata": {
        "id": "Hplt80wI8Vdb"
      },
      "outputs": [],
      "source": [
        "missing_values(df_major)"
      ]
    },
    {
      "cell_type": "markdown",
      "metadata": {
        "id": "8bHcJbC2_acU"
      },
      "source": [
        "from the box plot we can see that ,dataset dont have negative values , so , we dont need to check explicity"
      ]
    },
    {
      "cell_type": "code",
      "execution_count": null,
      "metadata": {
        "id": "YHCBIBkr-02f"
      },
      "outputs": [],
      "source": [
        "df_major.describe()"
      ]
    },
    {
      "cell_type": "markdown",
      "metadata": {
        "id": "JqOpflDk_oNE"
      },
      "source": [
        "but it has outliers , so lets deal with it"
      ]
    },
    {
      "cell_type": "markdown",
      "metadata": {
        "id": "zQZH8stOCpwL"
      },
      "source": [
        "from our intuition the energy is in **kilojoules** we will take care of it later"
      ]
    },
    {
      "cell_type": "code",
      "execution_count": null,
      "metadata": {
        "id": "zDws0vOhF1jD"
      },
      "outputs": [],
      "source": [
        "\n",
        "\n",
        "def plot_histplot_subplot(data, columns, rows, figsize=(15, 10)):\n",
        "  \"\"\"\n",
        "  Plots a series of histplots in a subplot format using Seaborn.\n",
        "\n",
        "  Args:\n",
        "    data: Pandas DataFrame containing the data.\n",
        "    columns: List of column names to plot.\n",
        "    rows: Number of rows in the subplot grid.\n",
        "    figsize: Tuple specifying the figure size.\n",
        "  \"\"\"\n",
        "\n",
        "  fig, axes = plt.subplots(rows, int(len(columns) / rows) + (len(columns) % rows > 0), figsize=figsize)\n",
        "  axes = axes.flatten()\n",
        "\n",
        "  for i, col in enumerate(columns):\n",
        "    sns.histplot(data[col], ax=axes[i])\n",
        "    axes[i].set_title(col)\n",
        "\n",
        "  plt.tight_layout()\n",
        "  plt.show()\n"
      ]
    },
    {
      "cell_type": "code",
      "execution_count": null,
      "metadata": {
        "id": "le6WxWz0ILRF"
      },
      "outputs": [],
      "source": [
        "sns.histplot(df_major['carbohydrates_100g'],kde=True)"
      ]
    },
    {
      "cell_type": "code",
      "execution_count": null,
      "metadata": {
        "id": "UAnDgKkFI6_s"
      },
      "outputs": [],
      "source": [
        "sns.histplot(df_major['sugars_100g'],kde=True)"
      ]
    },
    {
      "cell_type": "markdown",
      "metadata": {
        "id": "FlhU5klBJHjq"
      },
      "source": [
        "**as we can see it is left skewed , so we are using IQR method to remove outliers**"
      ]
    },
    {
      "cell_type": "code",
      "source": [
        "plt.figure(figsize=(15,15))\n",
        "sns.boxplot(df_major)"
      ],
      "metadata": {
        "id": "B9Gu-Tc1bLkN"
      },
      "execution_count": null,
      "outputs": []
    },
    {
      "cell_type": "code",
      "execution_count": null,
      "metadata": {
        "id": "WeQaL8YhLnp6"
      },
      "outputs": [],
      "source": [
        "# prompt: count outliers in each columns\n",
        "\n",
        "def count_outliers_iqr(df):\n",
        "  \"\"\"\n",
        "  Counts outliers in each column of a DataFrame using the Interquartile Range (IQR) method.\n",
        "\n",
        "  Args:\n",
        "    df: Pandas DataFrame.\n",
        "\n",
        "  Returns:\n",
        "    A dictionary where keys are column names and values are the number of outliers in that column.\n",
        "  \"\"\"\n",
        "\n",
        "  outlier_counts = {}\n",
        "  for column in df.columns:\n",
        "    if pd.api.types.is_numeric_dtype(df[column]):  # Check if the column is numeric\n",
        "      Q1 = df[column].quantile(0.25)\n",
        "      Q3 = df[column].quantile(0.75)\n",
        "      IQR = Q3 - Q1\n",
        "      lower_bound = Q1 - 1.5 * IQR\n",
        "      upper_bound = Q3 + 1.5 * IQR\n",
        "      outliers = df[(df[column] < lower_bound) | (df[column] > upper_bound)]\n",
        "      outlier_counts[column] = len(outliers)\n",
        "  return outlier_counts\n",
        "\n",
        "outlier_counts = count_outliers_iqr(df_major)\n",
        "outlier_counts"
      ]
    },
    {
      "cell_type": "markdown",
      "metadata": {
        "id": "np35V-t6LnYY"
      },
      "source": []
    },
    {
      "cell_type": "code",
      "execution_count": null,
      "metadata": {
        "id": "yDsg1hdGJbq9"
      },
      "outputs": [],
      "source": [
        "\n",
        "def remove_outliers_iqr(df, column):\n",
        "  Q1 = df[column].quantile(0.25)\n",
        "  Q3 = df[column].quantile(0.75)\n",
        "  IQR = Q3 - Q1\n",
        "  lower_bound = Q1 - 1.5 * IQR\n",
        "  upper_bound = Q3 + 1.5 * IQR\n",
        "  df_filtered = df[(df[column] >= lower_bound) & (df[column] <= upper_bound)]\n",
        "  return df_filtered\n",
        "df_no_outliers = df_major.copy()\n",
        "for column in df_major.select_dtypes(include=np.number).columns:\n",
        "  df_no_outliers = remove_outliers_iqr(df_no_outliers, column)\n",
        "\n",
        "df_major.shape"
      ]
    },
    {
      "cell_type": "code",
      "execution_count": null,
      "metadata": {
        "id": "1mlIBhO5LeY2"
      },
      "outputs": [],
      "source": [
        "df_no_outliers.shape"
      ]
    },
    {
      "cell_type": "code",
      "execution_count": null,
      "metadata": {
        "id": "G6hxBFvvKhtm"
      },
      "outputs": [],
      "source": [
        "plt.figure(figsize=(15,15))\n",
        "sns.boxplot(df_no_outliers)"
      ]
    },
    {
      "cell_type": "markdown",
      "metadata": {
        "id": "W77PCRoGMKLk"
      },
      "source": [
        "**after removing outlier we have 38052 which is greatly reduced but it can work , so lets take it , we will train both dataset, and check which one is better**\n",
        "\n",
        "\n"
      ]
    },
    {
      "cell_type": "markdown",
      "metadata": {
        "id": "9VIOyamvNRah"
      },
      "source": [
        "# Modeling"
      ]
    },
    {
      "cell_type": "markdown",
      "metadata": {
        "id": "jfXL2B-4Ndr5"
      },
      "source": [
        "Now that we have our cleaned dataset, we can start to work on our model:"
      ]
    },
    {
      "cell_type": "code",
      "execution_count": null,
      "metadata": {
        "id": "N7XiFhoEMJ0E"
      },
      "outputs": [],
      "source": [
        "df_no_outliers.head()"
      ]
    },
    {
      "cell_type": "code",
      "execution_count": null,
      "metadata": {
        "id": "uFNFLU9_K_7V"
      },
      "outputs": [],
      "source": [
        "df_no_outliers.shape"
      ]
    },
    {
      "cell_type": "code",
      "execution_count": null,
      "metadata": {
        "id": "Z9MnWHD6NllI"
      },
      "outputs": [],
      "source": [
        "df_no_outliers.info()"
      ]
    },
    {
      "cell_type": "code",
      "execution_count": null,
      "metadata": {
        "id": "lcQTL2QYNmuw"
      },
      "outputs": [],
      "source": [
        "df_no_outliers.describe()"
      ]
    },
    {
      "cell_type": "markdown",
      "metadata": {
        "id": "dxZk5vGTNuR9"
      },
      "source": [
        "lets separate target first"
      ]
    },
    {
      "cell_type": "code",
      "execution_count": null,
      "metadata": {
        "id": "NKWQWNP5NoUf"
      },
      "outputs": [],
      "source": [
        "target=df_no_outliers['nutrition-score-fr_100g']"
      ]
    },
    {
      "cell_type": "code",
      "execution_count": null,
      "metadata": {
        "id": "foMQLU-PN9RV"
      },
      "outputs": [],
      "source": [
        "target.head()"
      ]
    },
    {
      "cell_type": "markdown",
      "metadata": {
        "id": "-1lCOC3TOGgV"
      },
      "source": [
        "first lets make a basic model with linear regression\n",
        "\n",
        "First we will make our first assumptions on the model by analyzing the correlation of variables with the target"
      ]
    },
    {
      "cell_type": "markdown",
      "metadata": {
        "id": "IOFMo-R1Ox5_"
      },
      "source": []
    },
    {
      "cell_type": "code",
      "execution_count": null,
      "metadata": {
        "id": "ZITgQpBVOyh3"
      },
      "outputs": [],
      "source": []
    },
    {
      "cell_type": "code",
      "execution_count": null,
      "metadata": {
        "id": "fL0WR1xCOAF6"
      },
      "outputs": [],
      "source": [
        "numeric_columns=df_no_outliers.loc[:,df_no_outliers.dtypes!=object]\n",
        "corr1=numeric_columns.corr()\n",
        "plt.figure(figsize=(20,10))\n",
        "sns.heatmap(corr1,annot=True)"
      ]
    },
    {
      "cell_type": "markdown",
      "metadata": {
        "id": "qePSxezLPvJj"
      },
      "source": [
        "the outcome : As we can see on the heatmap, there is a strong correlation between the columns salt_100g & sodium_100g, saturated-fat_100g & fat_100g, energy_100g & fat_100g, and carbohydrates_100g & energy_100g.\n",
        "At this step of the modeling, we only want to get rid of the highly correlated features (corr>0.95)."
      ]
    },
    {
      "cell_type": "markdown",
      "metadata": {
        "id": "IWv9-P9gQzYp"
      },
      "source": [
        "salt_100g & sodium_100g"
      ]
    },
    {
      "cell_type": "code",
      "execution_count": null,
      "metadata": {
        "id": "WwvyiuMCQxVG"
      },
      "outputs": [],
      "source": [
        "sns.regplot(x='salt_100g',y='sodium_100g',data=df_no_outliers)"
      ]
    },
    {
      "cell_type": "markdown",
      "metadata": {
        "id": "GAC0hsTARClD"
      },
      "source": [
        "the relation is extacly equal , which is obvious because commonsalt , is equal to sodium , so to avoid redundancy , we drop any one column . correlation btw them is also 1"
      ]
    },
    {
      "cell_type": "code",
      "execution_count": null,
      "metadata": {
        "id": "ge_FSumiOXf6"
      },
      "outputs": [],
      "source": [
        "df_no_outliers.drop('salt_100g',axis=1,inplace=True)"
      ]
    },
    {
      "cell_type": "markdown",
      "metadata": {
        "id": "ir8VNUL0RjVo"
      },
      "source": [
        "fat_100g & saturated-fat_100g"
      ]
    },
    {
      "cell_type": "code",
      "execution_count": null,
      "metadata": {
        "id": "aYANBqQKRfHC"
      },
      "outputs": [],
      "source": [
        "sns.regplot(x='fat_100g',y='saturated-fat_100g',data=df_no_outliers)"
      ]
    },
    {
      "cell_type": "code",
      "execution_count": null,
      "metadata": {
        "id": "FSzM9lNwRmkA"
      },
      "outputs": [],
      "source": [
        "corr1['saturated-fat_100g']['fat_100g']"
      ]
    },
    {
      "cell_type": "markdown",
      "metadata": {
        "id": "szzsHPb1R6TZ"
      },
      "source": [
        "Indeed, fat is a heterogeneous group of compounds, which is one of the main constituents of food necessary to sustain the normal functions of the body. Depending on the chemical structure, this group is broadly categorized in to saturated fat and unsaturated fat in which they have differences. So, saturated fat is a component of the fat.\n",
        "In fact, the saturated fat is the one used in the formula to calculate the nutriscore.\n",
        "We can also watch the correlation of this 2 columns with the target and see that, the saturated fat has a better correlation with the target. This is again logical.\n"
      ]
    },
    {
      "cell_type": "markdown",
      "metadata": {
        "id": "50SN0slGR9RI"
      },
      "source": [
        "energy_100g & fat_100g"
      ]
    },
    {
      "cell_type": "code",
      "execution_count": null,
      "metadata": {
        "id": "ZYpxTfrXRya6"
      },
      "outputs": [],
      "source": [
        "sns.regplot(x='energy_100g',y='fat_100g',data=df_no_outliers)\n"
      ]
    },
    {
      "cell_type": "markdown",
      "metadata": {
        "id": "DQ9A2Nb7SfJ6"
      },
      "source": [
        "If we look at the scientific meaning of our columns, we can find that carbohydrates, protein and fats provide calories (or energy)."
      ]
    },
    {
      "cell_type": "markdown",
      "metadata": {
        "id": "Cj9ILPEVT1HS"
      },
      "source": [
        "# First\n",
        "For the first model we will keep all the columns explicitly used with the formula of the nutriscore, because we know they all have a different scientific purpose and might help the model. We will add or drop columns afterward.\n",
        "In fact, here is the list of variables used for the calculation :\n"
      ]
    },
    {
      "cell_type": "markdown",
      "metadata": {
        "id": "GkKnmH1yVKJC"
      },
      "source": [
        "![download (2).png](data:image/png;base64,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)\n",
        "\n",
        "1. Sugars = carbohydrates\n",
        "\n",
        "2. saturated fatty acids = saturated-fat\n",
        "3. the only column we don't explicitly have is \"fruits, vegetables, pulses, and rapeseed, walnuts and olive oils, (%). This column is really hard to calculate with the actual formula and is not an information gived on the packaging of a product. We will try to compensate the information brought by this column with our own feature engineering and adding of columns."
      ]
    },
    {
      "cell_type": "markdown",
      "metadata": {
        "id": "5S-gfSv6Ybk1"
      },
      "source": []
    },
    {
      "cell_type": "code",
      "source": [
        "numeric_columns.columns"
      ],
      "metadata": {
        "id": "1nyVPxutpIdZ"
      },
      "execution_count": null,
      "outputs": []
    },
    {
      "cell_type": "code",
      "execution_count": null,
      "metadata": {
        "id": "__Lc5UEeXvEr"
      },
      "outputs": [],
      "source": [
        "from sklearn.linear_model import LinearRegression\n",
        "from sklearn.model_selection import train_test_split\n",
        "\n",
        "X=df_no_outliers[['energy_100g','fat_100g',\n",
        "       'saturated-fat_100g', 'trans-fat_100g', 'cholesterol_100g',\n",
        "       'carbohydrates_100g', 'sugars_100g', 'fiber_100g', 'proteins_100g', 'sodium_100g']]\n",
        "\n",
        "Y=df_no_outliers['nutrition-score-fr_100g']\n",
        "\n",
        "X_train, X_test, y_train, y_test = train_test_split(X, Y, test_size=0.2, random_state=42)\n",
        "\n",
        "lin_reg_1 = LinearRegression()\n",
        "lin_reg_1.fit(X_train, y_train)\n",
        "\n",
        "lin_reg_1_pred=lin_reg_1.predict(X_test)"
      ]
    },
    {
      "cell_type": "code",
      "source": [
        "from sklearn.metrics import r2_score\n",
        "from sklearn.metrics import mean_squared_error\n",
        "print(mean_squared_error(y_test,lin_reg_1_pred))\n",
        "r2_score(y_test,lin_reg_1_pred)"
      ],
      "metadata": {
        "id": "cGQToS1QieqI"
      },
      "execution_count": null,
      "outputs": []
    },
    {
      "cell_type": "markdown",
      "source": [
        "# **Second**  with taking vitamins and all\n"
      ],
      "metadata": {
        "id": "wPbPTWn3qqao"
      }
    },
    {
      "cell_type": "code",
      "source": [
        "from sklearn.linear_model import LinearRegression\n",
        "from sklearn.model_selection import train_test_split\n",
        "\n",
        "X=df_no_outliers[['energy_100g','fat_100g',\n",
        "       'saturated-fat_100g', 'trans-fat_100g', 'cholesterol_100g',\n",
        "       'carbohydrates_100g', 'sugars_100g', 'fiber_100g', 'proteins_100g', 'sodium_100g','vitamin-a_100g', 'vitamin-c_100g',\n",
        "       'calcium_100g', 'iron_100g']]\n",
        "\n",
        "Y=df_no_outliers['nutrition-score-fr_100g']\n",
        "\n",
        "X_train, X_test, y_train, y_test = train_test_split(X, Y, test_size=0.2, random_state=42)\n",
        "\n",
        "lin_reg_2 = LinearRegression()\n",
        "lin_reg_2.fit(X_train, y_train)\n",
        "\n",
        "lin_reg_2_pred=lin_reg_2.predict(X_test)"
      ],
      "metadata": {
        "id": "uhKdBrfUqlUt"
      },
      "execution_count": null,
      "outputs": []
    },
    {
      "cell_type": "code",
      "source": [
        "from sklearn.metrics import r2_score\n",
        "from sklearn.metrics import mean_squared_error\n",
        "print(mean_squared_error(y_test,lin_reg_2_pred))\n",
        "r2_score(y_test,lin_reg_2_pred)\n"
      ],
      "metadata": {
        "id": "x1dlixx4rB_s"
      },
      "execution_count": null,
      "outputs": []
    },
    {
      "cell_type": "code",
      "source": [
        "print(lin_reg_1.coef_)"
      ],
      "metadata": {
        "id": "en-xHIPfrPxG"
      },
      "execution_count": null,
      "outputs": []
    },
    {
      "cell_type": "code",
      "source": [
        "print(lin_reg_2.coef_)"
      ],
      "metadata": {
        "id": "c4tQPp8Drud_"
      },
      "execution_count": null,
      "outputs": []
    },
    {
      "cell_type": "markdown",
      "source": [
        "# third\n",
        "in both model there is no significant difference , lets try standardized"
      ],
      "metadata": {
        "id": "O5owLEH-sBZW"
      }
    },
    {
      "cell_type": "code",
      "source": [
        "from sklearn.linear_model import LinearRegression\n",
        "from sklearn.model_selection import train_test_split\n",
        "from sklearn.preprocessing import StandardScaler\n",
        "\n",
        "# Define features and target variable\n",
        "X = df_no_outliers[['energy_100g', 'fat_100g', 'saturated-fat_100g', 'trans-fat_100g',\n",
        "                    'cholesterol_100g', 'carbohydrates_100g', 'sugars_100g', 'fiber_100g',\n",
        "                    'proteins_100g', 'sodium_100g', 'vitamin-a_100g', 'vitamin-c_100g',\n",
        "                    'calcium_100g', 'iron_100g']]\n",
        "\n",
        "Y = df_no_outliers['nutrition-score-fr_100g']\n",
        "\n",
        "# Split data before scaling\n",
        "X_train, X_test, y_train, y_test = train_test_split(X, Y, test_size=0.2, random_state=42)\n",
        "\n",
        "# Scale features (not target) using StandardScaler\n",
        "scaler = StandardScaler()\n",
        "X_train_scaled = scaler.fit_transform(X_train)\n",
        "X_test_scaled = scaler.transform(X_test)  # Use transform here to avoid data leakage\n",
        "\n",
        "# Fit linear regression model\n",
        "lin_reg = LinearRegression()\n",
        "lin_reg.fit(X_train_scaled, y_train)\n",
        "\n",
        "# Make predictions\n",
        "lin_reg_pred = lin_reg.predict(X_test_scaled)\n",
        "\n",
        "print(mean_squared_error(y_test, lin_reg_pred))\n",
        "r2_score(y_test, lin_reg_pred)"
      ],
      "metadata": {
        "id": "Af40fNParz7L"
      },
      "execution_count": null,
      "outputs": []
    },
    {
      "cell_type": "markdown",
      "source": [
        "no difference so , second one wins."
      ],
      "metadata": {
        "id": "zm_rmxBotvNz"
      }
    },
    {
      "cell_type": "markdown",
      "source": [
        "lets add palm oil"
      ],
      "metadata": {
        "id": "u7IMZFsOuA6O"
      }
    },
    {
      "cell_type": "code",
      "source": [
        "from sklearn.linear_model import LinearRegression\n",
        "from sklearn.model_selection import train_test_split\n",
        "\n",
        "X=df_no_outliers[[ 'ingredients_from_palm_oil_n',\n",
        "       'ingredients_that_may_be_from_palm_oil_n','energy_100g','fat_100g',\n",
        "       'saturated-fat_100g', 'trans-fat_100g', 'cholesterol_100g',\n",
        "       'carbohydrates_100g', 'sugars_100g', 'fiber_100g', 'proteins_100g', 'sodium_100g','vitamin-a_100g', 'vitamin-c_100g',\n",
        "                    'calcium_100g', 'iron_100g']]\n",
        "\n",
        "Y=df_no_outliers['nutrition-score-fr_100g']\n",
        "\n",
        "X_train, X_test, y_train, y_test = train_test_split(X, Y, test_size=0.2, random_state=42)\n",
        "\n",
        "lin_reg_4 = LinearRegression()\n",
        "lin_reg_4.fit(X_train, y_train)\n",
        "\n",
        "lin_reg_4_pred=lin_reg_4.predict(X_test)\n",
        "\n",
        "\n",
        "print(mean_squared_error(y_test, lin_reg_4_pred))\n",
        "r2_score(y_test, lin_reg_4_pred)"
      ],
      "metadata": {
        "id": "vAD2QW-VuALZ"
      },
      "execution_count": null,
      "outputs": []
    },
    {
      "cell_type": "markdown",
      "source": [
        "it is still same , lets try to combine these two columns ,\n",
        "**6th model: feature engineering on palm oil**"
      ],
      "metadata": {
        "id": "14kSSn3DvKlq"
      }
    },
    {
      "cell_type": "code",
      "source": [
        "df_no_outliers.shape"
      ],
      "metadata": {
        "id": "pHidxujQwG-z"
      },
      "execution_count": null,
      "outputs": []
    },
    {
      "cell_type": "code",
      "source": [
        "df_no_outliers['ingredients_from_palm_oil_n'].value_counts().head(10)"
      ],
      "metadata": {
        "id": "FnXTU3_Vssmq"
      },
      "execution_count": null,
      "outputs": []
    },
    {
      "cell_type": "code",
      "source": [
        "df_clean['ingredients_from_palm_oil_n'].value_counts().head(10)"
      ],
      "metadata": {
        "id": "BBZn-8cGvyMC"
      },
      "execution_count": null,
      "outputs": []
    },
    {
      "cell_type": "code",
      "source": [
        "df_clean['ingredients_that_may_be_from_palm_oil_n'].value_counts().head(10)"
      ],
      "metadata": {
        "id": "wgvkpjGIwSqj"
      },
      "execution_count": null,
      "outputs": []
    },
    {
      "cell_type": "code",
      "source": [
        "df_no_outliers['ingredients_that_may_be_from_palm_oil_n'].value_counts().head(10)"
      ],
      "metadata": {
        "id": "GDvrEshQwjbd"
      },
      "execution_count": null,
      "outputs": []
    },
    {
      "cell_type": "code",
      "source": [
        "df_major['ingredients_that_may_be_from_palm_oil_n'].value_counts().head(10)"
      ],
      "metadata": {
        "id": "x7_V9srUwqfA"
      },
      "execution_count": null,
      "outputs": []
    },
    {
      "cell_type": "markdown",
      "source": [
        "here in our cleaned dataset df_no_outliers , these is no value added by palm_oil , its surprising but yeah , lets just drop them"
      ],
      "metadata": {
        "id": "JQCofWmmwxXr"
      }
    },
    {
      "cell_type": "code",
      "source": [
        "df_no_outliers.drop(['ingredients_from_palm_oil_n','ingredients_that_may_be_from_palm_oil_n'],axis=1,inplace=True)"
      ],
      "metadata": {
        "id": "OVmcCciMwvpg"
      },
      "execution_count": null,
      "outputs": []
    },
    {
      "cell_type": "markdown",
      "source": [
        "lets try model with addictive_n"
      ],
      "metadata": {
        "id": "362JgsdBxtMn"
      }
    },
    {
      "cell_type": "code",
      "source": [
        "df_no_outliers.columns"
      ],
      "metadata": {
        "id": "NXDQVSCIx57x"
      },
      "execution_count": null,
      "outputs": []
    },
    {
      "cell_type": "code",
      "source": [
        "from sklearn.linear_model import LinearRegression\n",
        "from sklearn.model_selection import train_test_split\n",
        "\n",
        "X=df_no_outliers[['additives_n','energy_100g','fat_100g',\n",
        "       'saturated-fat_100g', 'trans-fat_100g', 'cholesterol_100g',\n",
        "       'carbohydrates_100g', 'sugars_100g', 'fiber_100g', 'proteins_100g', 'sodium_100g',\n",
        "       'vitamin-a_100g', 'vitamin-c_100g','calcium_100g', 'iron_100g']]\n",
        "\n",
        "Y=df_no_outliers['nutrition-score-fr_100g']\n",
        "\n",
        "X_train, X_test, y_train, y_test = train_test_split(X, Y, test_size=0.2, random_state=42)\n",
        "\n",
        "lin_reg_5 = LinearRegression()\n",
        "lin_reg_5.fit(X_train, y_train)\n",
        "\n",
        "lin_reg_5_pred=lin_reg_5.predict(X_test)\n",
        "\n",
        "\n",
        "print(mean_squared_error(y_test, lin_reg_5_pred))\n",
        "r2_score(y_test, lin_reg_5_pred)"
      ],
      "metadata": {
        "id": "0s10V_joxs1T"
      },
      "execution_count": null,
      "outputs": []
    },
    {
      "cell_type": "code",
      "source": [],
      "metadata": {
        "id": "poVcP7o99O-X"
      },
      "execution_count": null,
      "outputs": []
    },
    {
      "cell_type": "markdown",
      "source": [
        "our model imporves little better so we take this too"
      ],
      "metadata": {
        "id": "aqNvlfvlzfWT"
      }
    },
    {
      "cell_type": "markdown",
      "source": [
        "# now lets deal with catagorical variables"
      ],
      "metadata": {
        "id": "u266_ivYzq-s"
      }
    },
    {
      "cell_type": "code",
      "source": [
        "df_no_outliers.info()"
      ],
      "metadata": {
        "id": "MzxbuZMZxn2E"
      },
      "execution_count": null,
      "outputs": []
    },
    {
      "cell_type": "code",
      "source": [
        "df_no_outliers['ingredients_text'].value_counts().head(10)"
      ],
      "metadata": {
        "id": "YN7SzRZK0TvN"
      },
      "execution_count": null,
      "outputs": []
    },
    {
      "cell_type": "code",
      "source": [
        "df_no_outliers['additives_en'].value_counts().head()"
      ],
      "metadata": {
        "id": "VwOQFKar0td_"
      },
      "execution_count": null,
      "outputs": []
    },
    {
      "cell_type": "markdown",
      "source": [
        "lets find unique addictives"
      ],
      "metadata": {
        "id": "S5xoR_sh2Jq4"
      }
    },
    {
      "cell_type": "code",
      "source": [
        "unique_addictives=set()\n",
        "\n",
        "for addictives in  df_no_outliers['additives_en']:\n",
        "    unique_addictives.update(addictives.split(','))\n",
        "\n",
        "unique_addictives\n"
      ],
      "metadata": {
        "id": "_UZXQ8pS1EEt"
      },
      "execution_count": null,
      "outputs": []
    },
    {
      "cell_type": "code",
      "source": [
        "len(unique_addictives)"
      ],
      "metadata": {
        "id": "W_iMrAsi2ffu"
      },
      "execution_count": null,
      "outputs": []
    },
    {
      "cell_type": "code",
      "source": [],
      "metadata": {
        "id": "RwJtAEDU0X9j"
      },
      "execution_count": null,
      "outputs": []
    },
    {
      "cell_type": "markdown",
      "source": [
        "there are total 288 unique addictives , great , lets try to  one_hot_encode them"
      ],
      "metadata": {
        "id": "I2BNUUSY3HMR"
      }
    },
    {
      "cell_type": "code",
      "source": [
        "df_encoded=df_no_outliers.copy()\n",
        "for additive in unique_addictives:\n",
        "    df_encoded[additive.strip()] = df['additives_en'].apply(lambda x: 1 if pd.notna(x) and additive in x else 0)"
      ],
      "metadata": {
        "id": "bRs3gNFj3Gof"
      },
      "execution_count": null,
      "outputs": []
    },
    {
      "cell_type": "code",
      "source": [
        "df_no_outliers.shape"
      ],
      "metadata": {
        "id": "CHTI_OeA3FaK"
      },
      "execution_count": null,
      "outputs": []
    },
    {
      "cell_type": "code",
      "source": [
        "df_encoded.shape"
      ],
      "metadata": {
        "id": "Ul_mkC-10gPM"
      },
      "execution_count": null,
      "outputs": []
    },
    {
      "cell_type": "code",
      "source": [
        "df_no_outliers.columns"
      ],
      "metadata": {
        "id": "OmhgzmFw4KYe"
      },
      "execution_count": null,
      "outputs": []
    },
    {
      "cell_type": "code",
      "source": [
        "df_no_outliers.drop('additives_en',axis=1,inplace=True)\n"
      ],
      "metadata": {
        "id": "cQUSPjNI4OlN"
      },
      "execution_count": null,
      "outputs": []
    },
    {
      "cell_type": "code",
      "source": [
        "df_encoded.drop('additives_en',axis=1,inplace=True)"
      ],
      "metadata": {
        "id": "Y_DJk27M2nq_"
      },
      "execution_count": null,
      "outputs": []
    },
    {
      "cell_type": "code",
      "source": [
        "df_no_outliers.shape"
      ],
      "metadata": {
        "id": "Vhu4u2NK4Yhi"
      },
      "execution_count": null,
      "outputs": []
    },
    {
      "cell_type": "code",
      "source": [
        "df_encoded.head()"
      ],
      "metadata": {
        "id": "Wl7rp7x14ka-"
      },
      "execution_count": null,
      "outputs": []
    },
    {
      "cell_type": "markdown",
      "source": [
        "finally lets train this model"
      ],
      "metadata": {
        "id": "kNpEr5q3478l"
      }
    },
    {
      "cell_type": "code",
      "source": [
        "from sklearn.linear_model import LinearRegression\n",
        "from sklearn.model_selection import train_test_split\n",
        "from sklearn.metrics import mean_squared_error, r2_score\n",
        "\n",
        "X = df_encoded.drop(['nutrition-score-fr_100g','ingredients_text','product_name'], axis=1)\n",
        "Y = df_encoded['nutrition-score-fr_100g']\n",
        "\n",
        "X_train, X_test, y_train, y_test = train_test_split(X, Y, test_size=0.2, random_state=42)\n",
        "\n",
        "lin_reg_7 = LinearRegression()\n",
        "lin_reg_7.fit(X_train, y_train)\n",
        "\n",
        "lin_reg_7_pred = lin_reg_7.predict(X_test)\n",
        "\n",
        "print(\"Mean Squared Error:\", mean_squared_error(y_test, lin_reg_7_pred))\n",
        "print(\"R2 Score:\", r2_score(y_test, lin_reg_7_pred))\n"
      ],
      "metadata": {
        "id": "_-l-vMnf47Zd"
      },
      "execution_count": null,
      "outputs": []
    },
    {
      "cell_type": "markdown",
      "source": [
        "lol , thats great our accuracy is slightly better"
      ],
      "metadata": {
        "id": "kGnOV47o6ExS"
      }
    },
    {
      "cell_type": "code",
      "source": [
        "\n",
        "from sklearn.ensemble import RandomForestRegressor\n",
        "\n",
        "\n",
        "X=df_no_outliers[['additives_n','energy_100g','fat_100g',\n",
        "       'saturated-fat_100g', 'trans-fat_100g', 'cholesterol_100g',\n",
        "       'carbohydrates_100g', 'sugars_100g', 'fiber_100g', 'proteins_100g', 'sodium_100g',\n",
        "       'vitamin-a_100g', 'vitamin-c_100g','calcium_100g', 'iron_100g']]\n",
        "\n",
        "Y=df_no_outliers['nutrition-score-fr_100g']\n",
        "\n",
        "X_train, X_test, y_train, y_test = train_test_split(X, Y, test_size=0.2, random_state=42)\n",
        "\n",
        "\n",
        "# Random Forest Regressor\n",
        "rf_reg1 = RandomForestRegressor(random_state=42)\n",
        "rf_reg1.fit(X_train, y_train)\n",
        "rf_reg_pred1 = rf_reg1.predict(X_test)\n",
        "print(\"\\nRandom Forest Regressor:\")\n",
        "print(\"Mean Squared Error:\", mean_squared_error(y_test, rf_reg_pred1))\n",
        "print(\"R2 Score:\", r2_score(y_test, rf_reg_pred1))\n"
      ],
      "metadata": {
        "id": "cvnskrSa7qDm"
      },
      "execution_count": null,
      "outputs": []
    },
    {
      "cell_type": "markdown",
      "source": [
        "**we consider this to be our final model in linear regression with accuracy 95 percent approx**"
      ],
      "metadata": {
        "id": "_qxEShqk6UD3"
      }
    },
    {
      "cell_type": "code",
      "source": [
        "from sklearn.tree import DecisionTreeRegressor\n",
        "from sklearn.ensemble import RandomForestRegressor\n",
        "from sklearn.svm import SVR\n",
        "\n",
        "\n",
        "X = df_encoded.drop(['nutrition-score-fr_100g', 'additives_n', 'ingredients_text','product_name'], axis=1)\n",
        "Y = df_encoded['nutrition-score-fr_100g']\n",
        "\n",
        "X_train, X_test, y_train, y_test = train_test_split(X, Y, test_size=0.2, random_state=42)\n",
        "\n",
        "# Random Forest Regressor\n",
        "rf_reg = RandomForestRegressor(random_state=42)\n",
        "rf_reg.fit(X_train, y_train)\n",
        "rf_reg_pred = rf_reg.predict(X_test)\n",
        "print(\"\\nRandom Forest Regressor:\")\n",
        "print(\"Mean Squared Error:\", mean_squared_error(y_test, rf_reg_pred))\n",
        "print(\"R2 Score:\", r2_score(y_test, rf_reg_pred))\n"
      ],
      "metadata": {
        "id": "HlldEFAt4o4N"
      },
      "execution_count": null,
      "outputs": []
    },
    {
      "cell_type": "markdown",
      "source": [],
      "metadata": {
        "id": "NeotPXPK8NoP"
      }
    },
    {
      "cell_type": "code",
      "source": [
        "import joblib\n",
        "\n",
        "# Save a model to Google Drive\n",
        "joblib.dump(lin_reg_7, '/content/drive/MyDrive/lin_reg_7.pkl')"
      ],
      "metadata": {
        "id": "kH46tbRQ8Xox"
      },
      "execution_count": null,
      "outputs": []
    },
    {
      "cell_type": "code",
      "source": [
        "import joblib\n",
        "\n",
        "# Save a model to Google Drive\n",
        "joblib.dump(rf_reg, '/content/drive/MyDrive/random_forest.pkl')"
      ],
      "metadata": {
        "id": "ekl4TD-78sRs"
      },
      "execution_count": null,
      "outputs": []
    },
    {
      "cell_type": "code",
      "source": [
        "import joblib\n",
        "\n",
        "# Load the model from Google Drive or local storage\n",
        "model_path = '/content/drive/MyDrive/lin_reg_7.pkl'\n",
        "lin_reg_7 = joblib.load(model_path)"
      ],
      "metadata": {
        "id": "cgcN5aZc_F1h"
      },
      "execution_count": null,
      "outputs": []
    },
    {
      "cell_type": "code",
      "source": [
        "import joblib\n",
        "\n",
        "# Save a model to Google Drive\n",
        "joblib.dump(lin_reg_5, '/content/drive/MyDrive/linear_reg_model.pkl')\n",
        "joblib.dump(df_no_outliers, '/content/drive/MyDrive/df_no_outlier.pkl')"
      ],
      "metadata": {
        "id": "1I85y3pLx2a3"
      },
      "execution_count": null,
      "outputs": []
    },
    {
      "cell_type": "code",
      "source": [
        "joblib.dump(df_encoded,'/content/drive/MyDrive/df_encoded.pkl')"
      ],
      "metadata": {
        "id": "sJ3lOVEv5YAX"
      },
      "execution_count": null,
      "outputs": []
    },
    {
      "cell_type": "code",
      "source": [
        "df_no_outliers.columns"
      ],
      "metadata": {
        "id": "kE15SYHv5rue"
      },
      "execution_count": null,
      "outputs": []
    },
    {
      "cell_type": "code",
      "source": [
        "df_no_outliers.describe()"
      ],
      "metadata": {
        "id": "vUNKjpfq6WmT"
      },
      "execution_count": null,
      "outputs": []
    },
    {
      "cell_type": "code",
      "source": [
        "df_no_outliers.head()"
      ],
      "metadata": {
        "id": "bIZO5hoF_5ZK"
      },
      "execution_count": null,
      "outputs": []
    },
    {
      "cell_type": "code",
      "source": [
        "import pandas as pd\n",
        "import joblib\n",
        "model_path = '/content/drive/MyDrive/linear_reg_model.pkl'\n",
        "lin_reg_5 = joblib.load(model_path)\n",
        "df_path = '/content/drive/MyDrive/df_no_outlier.pkl'\n",
        "df_no_outliers = joblib.load(df_path)\n",
        "\n",
        "rf_path='/content/drive/MyDrive/random_forest.pkl'\n",
        "rf_model=joblib.load(rf_path)"
      ],
      "metadata": {
        "id": "sFrFDWszdcr1"
      },
      "execution_count": null,
      "outputs": []
    },
    {
      "cell_type": "code",
      "source": [
        "df_final=df_no_outliers.copy()"
      ],
      "metadata": {
        "id": "BLUgtWhEC5zw"
      },
      "execution_count": null,
      "outputs": []
    },
    {
      "cell_type": "code",
      "source": [
        "from sklearn.tree import DecisionTreeRegressor\n",
        "from sklearn.ensemble import RandomForestRegressor\n",
        "from sklearn.svm import SVR\n",
        "from sklearn.metrics import mean_squared_error, r2_score\n",
        "from sklearn.model_selection import train_test_split\n",
        "\n",
        "X = df_final.drop(['nutrition-score-fr_100g', 'additives_n', 'ingredients_text','product_name'], axis=1)\n",
        "Y = df_final['nutrition-score-fr_100g']\n",
        "\n",
        "X_train, X_test, y_train, y_test = train_test_split(X, Y, test_size=0.2, random_state=42)\n",
        "\n",
        "# Random Forest Regressor\n",
        "rf_final = RandomForestRegressor(random_state=42)\n",
        "rf_final.fit(X_train, y_train)\n",
        "rf_final_pred = rf_final.predict(X_test)\n",
        "print(\"\\nRandom Forest Regressor:\")\n",
        "print(\"Mean Squared Error:\", mean_squared_error(y_test, rf_final_pred))\n",
        "print(\"R2 Score:\", r2_score(y_test, rf_final_pred))"
      ],
      "metadata": {
        "id": "36DdUU7qHNuY"
      },
      "execution_count": null,
      "outputs": []
    },
    {
      "cell_type": "code",
      "source": [
        "# prompt: generate any daigram for random forest model\n",
        "\n",
        "from sklearn.tree import plot_tree\n",
        "import matplotlib.pyplot as plt\n",
        "\n",
        "# Assuming you have trained a Random Forest model named 'rf_reg'\n",
        "# and you want to visualize the first decision tree in the forest\n",
        "\n",
        "# Get the first decision tree from the forest\n",
        "tree = rf_reg.estimators_[0]\n",
        "\n",
        "# Plot the tree\n",
        "plt.figure(figsize=(40, 20))\n",
        "plot_tree(tree, feature_names=X.columns, filled=True, rounded=True, max_depth=3)  # Adjust max_depth as needed\n",
        "plt.show()\n"
      ],
      "metadata": {
        "id": "rKBgpaX1_nT2"
      },
      "execution_count": null,
      "outputs": []
    },
    {
      "cell_type": "code",
      "source": [
        "# prompt: generate a interface where user enter values , and get predicted score\n",
        "\n",
        "#@title Prediction Interface\n",
        "energy_100g = 1594.1 #@param {type:\"number\"}\n",
        "fat_100g = 1.8 #@param {type:\"number\"}\n",
        "saturated_fat_100g = 0.9 #@param {type:\"number\"}\n",
        "trans_fat_100g = 0.0 #@param {type:\"number\"}\n",
        "cholesterol_100g = 0.001 #@param {type:\"number\"}\n",
        "carbohydrates_100g = 86 #@param {type:\"number\"}\n",
        "sugars_100g = 47.0 #@param {type:\"number\"}\n",
        "fiber_100g = 3.5 #@param {type:\"number\"}\n",
        "proteins_100g = 7 #@param {type:\"number\"}\n",
        "sodium_100g = 0.175 #@param {type:\"number\"}\n",
        "vitamin_a_100g = 0.000790 #@param {type:\"number\"}\n",
        "vitamin_c_100g = 0.095 #@param {type:\"number\"}\n",
        "calcium_100g = 0.500 #@param {type:\"number\"}\n",
        "iron_100g = 0.023 #@param {type:\"number\"}\n",
        "\n",
        "\n",
        "\n",
        "input_data = pd.DataFrame({\n",
        "    'energy_100g': [energy_100g],\n",
        "    'fat_100g': [fat_100g],\n",
        "    'saturated-fat_100g': [saturated_fat_100g],\n",
        "    'trans-fat_100g': [trans_fat_100g],\n",
        "    'cholesterol_100g': [cholesterol_100g],\n",
        "    'carbohydrates_100g': [carbohydrates_100g],\n",
        "    'sugars_100g': [sugars_100g],\n",
        "    'fiber_100g': [fiber_100g],\n",
        "    'proteins_100g': [proteins_100g],\n",
        "    'sodium_100g': [sodium_100g],\n",
        "    'vitamin-a_100g': [vitamin_a_100g],\n",
        "    'vitamin-c_100g': [vitamin_c_100g],\n",
        "    'calcium_100g': [calcium_100g],\n",
        "    'iron_100g': [iron_100g],\n",
        "})\n",
        "\n",
        "predicted_score = rf_final.predict(input_data)\n",
        "\n",
        "print(\"Predicted Nutrition Score:\", predicted_score[0])"
      ],
      "metadata": {
        "id": "0qdVvzA2dBpn"
      },
      "execution_count": null,
      "outputs": []
    },
    {
      "cell_type": "code",
      "source": [
        "joblib.dump(rf_final, '/content/drive/MyDrive/random_forest.pkl')"
      ],
      "metadata": {
        "id": "w6OP9vJA9hOh"
      },
      "execution_count": null,
      "outputs": []
    },
    {
      "cell_type": "code",
      "source": [
        "rf_final=joblib.load('/content/drive/MyDrive/random_forest.pkl')"
      ],
      "metadata": {
        "id": "LvMRVNkNG3QV"
      },
      "execution_count": null,
      "outputs": []
    },
    {
      "cell_type": "code",
      "source": [
        "type(rf_final)"
      ],
      "metadata": {
        "id": "0VgWBXe4HMea"
      },
      "execution_count": null,
      "outputs": []
    },
    {
      "cell_type": "code",
      "source": [
        "import pickle\n",
        "import pandas as pd\n",
        "\n",
        "\n",
        "with open('/content/drive/MyDrive/random_forest.pkl', 'rb') as model_file:\n",
        "    random_forest_model = pickle.load(model_file)\n",
        "print(\"Model loaded successfully!\")\n",
        "print(\"Model type:\", type(random_forest_model))\n"
      ],
      "metadata": {
        "id": "Todr6hg0Dity"
      },
      "execution_count": null,
      "outputs": []
    },
    {
      "cell_type": "code",
      "source": [
        "def convert_nutrition_score_to_group(nutrition_score, category):\n",
        "  \"\"\"Converts a nutrition score to its corresponding group based on food or beverage type.\n",
        "\n",
        "  Args:\n",
        "    nutrition_score: The nutrition score value.\n",
        "    food_or_beverage: A string indicating whether it's \"food\" or \"beverage\".\n",
        "\n",
        "  Returns:\n",
        "    The corresponding group (A, B, C, D, or E) as a string.\n",
        "  \"\"\"\n",
        "\n",
        "  if category == \"beverage\":\n",
        "    if nutrition_score <= -15:\n",
        "      return \"A\"\n",
        "    elif -15 < nutrition_score <= -1:\n",
        "      return \"B\"\n",
        "    elif 2 <= nutrition_score <= 5:\n",
        "      return \"C\"\n",
        "    elif 6 <= nutrition_score <= 9:\n",
        "      return \"D\"\n",
        "    else:\n",
        "      return \"E\"\n",
        "  elif category == \"food\":\n",
        "    if -15 <= nutrition_score <= -1:\n",
        "      return \"A\"\n",
        "    elif 0 <= nutrition_score <= 2:\n",
        "      return \"B\"\n",
        "    elif 3 <= nutrition_score <= 10:\n",
        "      return \"C\"\n",
        "    elif 11 <= nutrition_score <= 18:\n",
        "      return \"D\"\n",
        "    else:\n",
        "      return \"E\"\n",
        "  else:\n",
        "    return \"Invalid input\"\n",
        "\n",
        "\n",
        "# Example usage\n",
        "nutrition_score = 11\n",
        "food_or_beverage = \"food\"\n",
        "group = convert_nutrition_score_to_group(nutrition_score, food_or_beverage)\n",
        "print(f\"Nutrition score {nutrition_score} for {food_or_beverage} belongs to group {group}\")"
      ],
      "metadata": {
        "id": "ZP04WhILEXA3"
      },
      "execution_count": null,
      "outputs": []
    },
    {
      "cell_type": "code",
      "source": [],
      "metadata": {
        "id": "fDAhOQQMIPPM"
      },
      "execution_count": null,
      "outputs": []
    }
  ],
  "metadata": {
    "colab": {
      "collapsed_sections": [
        "X6aThwNnQC0n",
        "JG7fOtmrQwiQ"
      ],
      "provenance": []
    },
    "kernelspec": {
      "display_name": "Python 3",
      "name": "python3"
    },
    "language_info": {
      "name": "python"
    }
  },
  "nbformat": 4,
  "nbformat_minor": 0
}